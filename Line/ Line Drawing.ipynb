{
  "nbformat": 4,
  "nbformat_minor": 0,
  "metadata": {
    "colab": {
      "provenance": [],
      "collapsed_sections": [
        "Tm2P2lGnEWVL"
      ],
      "include_colab_link": true
    },
    "kernelspec": {
      "name": "python3",
      "display_name": "Python 3"
    },
    "language_info": {
      "name": "python"
    }
  },
  "cells": [
    {
      "cell_type": "markdown",
      "metadata": {
        "id": "view-in-github",
        "colab_type": "text"
      },
      "source": [
        "<a href=\"https://colab.research.google.com/github/ElGg01/Bresenham-Algorithm/blob/main/Line/%20Line%20Drawing.ipynb\" target=\"_parent\"><img src=\"https://colab.research.google.com/assets/colab-badge.svg\" alt=\"Open In Colab\"/></a>"
      ]
    },
    {
      "cell_type": "markdown",
      "source": [
        "#Importaciones"
      ],
      "metadata": {
        "id": "vH1Zly-1kWpJ"
      }
    },
    {
      "cell_type": "code",
      "execution_count": null,
      "metadata": {
        "id": "Jl0fMyk0kM_v"
      },
      "outputs": [],
      "source": [
        "import matplotlib.pyplot as plt\n",
        "from matplotlib.patches import Rectangle\n",
        "import pandas as pd\n",
        "import numpy as np"
      ]
    },
    {
      "cell_type": "markdown",
      "source": [
        "#Obteniendo los puntos"
      ],
      "metadata": {
        "id": "D1AF64KtkcQg"
      }
    },
    {
      "cell_type": "code",
      "source": [
        "puntoA = input(\"Introduce el valor del punto A separadas por comas: \").split(\",\")\n",
        "puntoA = [int(cadena) for cadena in puntoA]\n",
        "puntoB = input(\"Introduce el valor del punto B separadas por comas: \").split(\",\")\n",
        "puntoB = [int(cadena) for cadena in puntoB]"
      ],
      "metadata": {
        "id": "kiCZ2XLDkZ1N",
        "colab": {
          "base_uri": "https://localhost:8080/"
        },
        "outputId": "05137dbb-eb06-4705-a183-2b6ad76d3d46"
      },
      "execution_count": null,
      "outputs": [
        {
          "name": "stdout",
          "output_type": "stream",
          "text": [
            "Introduce el valor del punto A separadas por comas: 25, 25\n",
            "Introduce el valor del punto B separadas por comas: 40, 5\n"
          ]
        }
      ]
    },
    {
      "cell_type": "markdown",
      "source": [
        "#Definiendo el algoritmo"
      ],
      "metadata": {
        "id": "y7YhSXw3A1UR"
      }
    },
    {
      "cell_type": "code",
      "source": [
        "def bresenham(puntoA, puntoB):\n",
        "  #Se calcula dx e dy\n",
        "  dx = abs(puntoB[0] - puntoA[0])\n",
        "  dy = abs(puntoB[1] - puntoA[1])\n",
        "\n",
        "  #Se obtiene la pendiente\n",
        "  m = (puntoB[1] - puntoA[1])/(puntoB[0] - puntoA[0]) if puntoA[0] != puntoB[0] else \"recta vertical\"\n",
        "\n",
        "  #Bandera que indicara si se deben sumar, restar o no hacer nada en el algoritmo\n",
        "  bandera = False\n",
        "  \n",
        "  #Se invierten los valores si dx < dy\n",
        "  if dx < dy:\n",
        "    bandera = True\n",
        "    temp = dy\n",
        "    dy = dx\n",
        "    dx = temp\n",
        "  #Se establece un valor inicial para pk y para los valores de x e y\n",
        "  pk = [\"\" if m == 0 or puntoB[0] == puntoA[0] else 2 * dy - dx]\n",
        "  xy = [puntoA if puntoA[0] < puntoB[0] or puntoA[1] < puntoB[1] else puntoB]\n",
        "\n",
        "  #Se calculan las constantes\n",
        "  dosDY = 2 * dy\n",
        "  dosDY_2DX = dosDY - (2 * dx)\n",
        "\n",
        "  #Caso donde la pendiente es menor a 0\n",
        "  if m == 0:\n",
        "    print(\"Es una recta horizontal\")\n",
        "    print(xy)\n",
        "    for i in range(dx):\n",
        "      xy.append([xy[i][0] + 1, xy[i][1]])\n",
        "      pk.append(\"\")\n",
        "\n",
        "  #Si la pendiente es infinita (recta vertical)\n",
        "  elif puntoB[0] == puntoA[0]:\n",
        "    print(\"Es una recta vertical\")\n",
        "    for i in range(dx):\n",
        "      xy.append([xy[i][0], xy[i][1] + 1])\n",
        "      pk.append(\"\")\n",
        "\n",
        "  #Si la pendiente es mayor a 0\n",
        "  elif m > 0:\n",
        "    print(\"Es una recta con pendiente mayor a 0\")\n",
        "    for i in range(dx):\n",
        "      if (pk[i] < 0):\n",
        "        xy.append([xy[i][0] + (0 if bandera else 1), xy[i][1] + (1 if bandera else 0)])\n",
        "        pk.append(pk[i] + dosDY)\n",
        "      else:\n",
        "        xy.append([xy[i][0] + 1, xy[i][1] + 1])\n",
        "        pk.append(pk[i] + dosDY_2DX)\n",
        "    pk.insert(0, \"\")\n",
        "    pk.pop()\n",
        "\n",
        "  #Si la pendiente es menor a 0\n",
        "  elif m < 0:\n",
        "    print(\"Es una recta con pendiente menor a 0\")\n",
        "    for i in range(dx):\n",
        "      if (pk[i] < 0):\n",
        "        xy.append([xy[i][0] + (0 if bandera else 1), xy[i][1] - (1 if bandera else 0)])\n",
        "        pk.append(pk[i] + dosDY)\n",
        "      else:\n",
        "        xy.append([xy[i][0] + 1, xy[i][1] - 1])\n",
        "        pk.append(pk[i] + dosDY_2DX)\n",
        "\n",
        "    pk.insert(0, \"\")\n",
        "    pk.pop()\n",
        "  return m, pk, xy\n",
        "\n",
        "#Se obtienen los valores de la pendiente, pk y los valores de x e y al aplicar la funcion con los puntos dados\n",
        "m, pk, xy = bresenham(puntoA, puntoB)\n",
        "\n",
        "#Se crea una tabla con las coordenadas y los valores de pk\n",
        "data = {\"Pk\": pk, \"Coordenadas\": xy}\n",
        "tabla = pd.DataFrame(data)\n",
        "print(tabla)"
      ],
      "metadata": {
        "colab": {
          "base_uri": "https://localhost:8080/"
        },
        "id": "Qo7lXTbBEVI7",
        "outputId": "4e5daee4-64ba-4ca7-ae72-a08d085bf040"
      },
      "execution_count": null,
      "outputs": [
        {
          "output_type": "stream",
          "name": "stdout",
          "text": [
            "Es una recta con pendiente menor a 0\n",
            "     Pk Coordenadas\n",
            "0          [25, 25]\n",
            "1    10    [26, 24]\n",
            "2     0    [27, 23]\n",
            "3   -10    [27, 22]\n",
            "4    20    [28, 21]\n",
            "5    10    [29, 20]\n",
            "6     0    [30, 19]\n",
            "7   -10    [30, 18]\n",
            "8    20    [31, 17]\n",
            "9    10    [32, 16]\n",
            "10    0    [33, 15]\n",
            "11  -10    [33, 14]\n",
            "12   20    [34, 13]\n",
            "13   10    [35, 12]\n",
            "14    0    [36, 11]\n",
            "15  -10    [36, 10]\n",
            "16   20     [37, 9]\n",
            "17   10     [38, 8]\n",
            "18    0     [39, 7]\n",
            "19  -10     [39, 6]\n",
            "20   20     [40, 5]\n"
          ]
        }
      ]
    },
    {
      "cell_type": "markdown",
      "source": [
        "#GRAFICA DE LAS COORDENADAS:"
      ],
      "metadata": {
        "id": "uRSUAG706W5d"
      }
    },
    {
      "cell_type": "code",
      "source": [
        "# Crear una lista de coordenadas que son los valores basicamente de xy\n",
        "coords = xy\n",
        "\n",
        "#Encontramos los puntos minimos y puntos maximos para delimitar el rango de la grafica\n",
        "menorX = puntoA[0] if puntoA[0] < puntoB[0] else puntoB[0]\n",
        "mayorX = puntoA[0] if puntoA[0] > puntoB[0] else puntoB[0]\n",
        "menorY = puntoA[1] if puntoA[1] < puntoB[1] else puntoB[1]\n",
        "mayorY = puntoA[1] if puntoA[1] > puntoB[1] else puntoB[1]\n",
        "\n",
        "# Configurar la figura y los ejes\n",
        "fig, ax = plt.subplots(figsize=(15, 10))\n",
        "\n",
        "# Configurar las marcas de graduación en los ejes x e y\n",
        "plt.xticks(range(menorX - 50, mayorX + 50, 1))\n",
        "plt.yticks(range(menorY - 50, mayorY + 50, 1))\n",
        "\n",
        "#Lineas del plano cartesiano\n",
        "plt.axvline(x=0, color=\"red\")\n",
        "plt.axhline(y=0, color=\"red\")\n",
        "\n",
        "#Muestra la cuadrícula\n",
        "plt.grid(True)\n",
        "\n",
        "# Pintar cada cuadro en la cuadrícula\n",
        "for x, y in coords:\n",
        "    rect = Rectangle((x-0, y-0), 1, 1, linewidth=1, edgecolor='blue', facecolor='blue')\n",
        "    ax.add_patch(rect)\n",
        "\n",
        "# Mostrar el gráfico\n",
        "plt.autoscale()\n",
        "plt.show()"
      ],
      "metadata": {
        "colab": {
          "base_uri": "https://localhost:8080/",
          "height": 592
        },
        "id": "oZ0wTT_Nz8WE",
        "outputId": "63990e3c-d17a-4adb-e2a8-5cb19a2fbe41"
      },
      "execution_count": null,
      "outputs": [
        {
          "output_type": "display_data",
          "data": {
            "text/plain": [
              "<Figure size 1080x720 with 1 Axes>"
            ],
            "image/png": "[encoded data removed]"
          },
          "metadata": {
            "needs_background": "light"
          }
        }
      ]
    }
  ]
}